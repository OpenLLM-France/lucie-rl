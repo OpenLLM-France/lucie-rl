{
 "cells": [
  {
   "cell_type": "code",
   "execution_count": null,
   "metadata": {},
   "outputs": [],
   "source": [
    "from datasets import load_dataset, concatenate_datasets\n",
    "ds_nr = load_dataset('cognitivecomputations/dolphin-r1', 'nonreasoning')['train']\n",
    "ds_r1 = load_dataset('cognitivecomputations/dolphin-r1', 'reasoning-deepseek')['train']\n",
    "ds_fl = load_dataset('cognitivecomputations/dolphin-r1', 'reasoning-flash')['train']"
   ]
  },
  {
   "cell_type": "code",
   "execution_count": null,
   "metadata": {},
   "outputs": [],
   "source": [
    "def get_prompts_r1(example):\n",
    "    msg = example['messages']\n",
    "    msg.append({\"role\": \"assistant\", \"content\": f\"#### Reasoning : {example['reasoning']}\\n#### Answer : {example['answer']}\"})\n",
    "    return {\"messages\" : msg}\n",
    "ds_r1 = ds_r1.map(get_prompts_r1).remove_columns(['reasoning', 'answer','model'])\n",
    "ds_fl = ds_fl.map(get_prompts_r1).remove_columns(['reasoning', 'answer','model'])\n",
    "\n",
    "ds_nr = ds_nr.remove_columns(['score','refusal','compliance_rating','overall_quality'])\n",
    "ds_nr = ds_nr.cast(ds_r1.features)"
   ]
  },
  {
   "cell_type": "code",
   "execution_count": null,
   "metadata": {},
   "outputs": [],
   "source": [
    "dataset = concatenate_datasets([ds_nr, ds_r1, ds_fl])"
   ]
  },
  {
   "cell_type": "code",
   "execution_count": null,
   "metadata": {},
   "outputs": [],
   "source": [
    "from transformers import AutoModelForCausalLM, AutoTokenizer\n",
    "model_name = 'OpenLLM-France/Lucie-7B-Instruct'\n",
    "output_dir = '/mnt/disk/dolphin-r1'\n",
    "ft_model_name = 'Lucie-7B-dolphin-r1'\n",
    "model = AutoModelForCausalLM.from_pretrained(\n",
    "    model_name,\n",
    "    torch_dtype=\"auto\",\n",
    "    device_map=\"auto\",\n",
    ")\n",
    "\n",
    "\n",
    "tokenizer = AutoTokenizer.from_pretrained(model_name)\n",
    "tokenizer.padding_side = \"right\"\n",
    "from peft import LoraConfig, get_peft_model\n",
    "\n",
    "lora_config = LoraConfig(\n",
    "    task_type=\"CAUSAL_LM\",\n",
    "    r=128,\n",
    "    lora_alpha=32,\n",
    "    lora_dropout=0.2,\n",
    "    target_modules=[\n",
    "        \"q_proj\", \"k_proj\", \"v_proj\", \"o_proj\",\n",
    "        \"gate_proj\", \"up_proj\", \"down_proj\",\n",
    "    ]\n",
    ")\n",
    "\n",
    "model = get_peft_model(model, lora_config)\n",
    "\n",
    "model.print_trainable_parameters()"
   ]
  },
  {
   "cell_type": "code",
   "execution_count": null,
   "metadata": {},
   "outputs": [],
   "source": [
    "from trl import SFTConfig, SFTTrainer\n",
    "trainer = SFTTrainer(\n",
    "    model,\n",
    "    tokenizer=tokenizer,\n",
    "    train_dataset=dataset,\n",
    "    args=SFTConfig(output_dir=output_dir, save_steps=100000, packing=True, logging_steps=50, run_name=\"'sft-gsm8k\", report_to=[\"wandb\"]),\n",
    ")\n",
    "\n",
    "trainer.train()"
   ]
  }
 ],
 "metadata": {
  "kernelspec": {
   "display_name": "grpo",
   "language": "python",
   "name": "python3"
  },
  "language_info": {
   "codemirror_mode": {
    "name": "ipython",
    "version": 3
   },
   "file_extension": ".py",
   "mimetype": "text/x-python",
   "name": "python",
   "nbconvert_exporter": "python",
   "pygments_lexer": "ipython3",
   "version": "3.12.9"
  }
 },
 "nbformat": 4,
 "nbformat_minor": 2
}
